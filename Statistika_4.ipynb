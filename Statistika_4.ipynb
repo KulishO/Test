{
 "cells": [
  {
   "cell_type": "code",
   "execution_count": 1,
   "metadata": {
    "collapsed": false
   },
   "outputs": [],
   "source": [
    "import numpy as np\n",
    "import random\n",
    "import scipy.stats as st\n",
    "from pylab import *\n",
    "import matplotlib.pyplot as plt\n",
    "import pandas as pd\n",
    "#import plotly.plotly as py\n",
    "#import plotly.figure_factory as ff\n",
    "import seaborn as sns\n",
    "from pandas.tools.plotting import scatter_matrix\n",
    "font = {'family': 'serif',\n",
    "        'color':  'darkred',\n",
    "        'weight': 'normal',\n",
    "        'size': 16,\n",
    "        }\n",
    "%matplotlib inline"
   ]
  },
  {
   "cell_type": "code",
   "execution_count": 2,
   "metadata": {
    "collapsed": true
   },
   "outputs": [],
   "source": [
    "#создание DataFrame с помощью чтения данных из файла\n",
    "frame = pd.read_csv('Zad4.csv', header=0, sep=';')"
   ]
  },
  {
   "cell_type": "code",
   "execution_count": 3,
   "metadata": {
    "collapsed": false
   },
   "outputs": [
    {
     "data": {
      "text/html": [
       "<div>\n",
       "<table border=\"1\" class=\"dataframe\">\n",
       "  <thead>\n",
       "    <tr style=\"text-align: right;\">\n",
       "      <th></th>\n",
       "      <th>Year</th>\n",
       "      <th>Response</th>\n",
       "      <th>Factor_1_Х1</th>\n",
       "      <th>Factor_2_Х2</th>\n",
       "    </tr>\n",
       "  </thead>\n",
       "  <tbody>\n",
       "    <tr>\n",
       "      <th>0</th>\n",
       "      <td>2001</td>\n",
       "      <td>56,09</td>\n",
       "      <td>2,62</td>\n",
       "      <td>-3,35</td>\n",
       "    </tr>\n",
       "    <tr>\n",
       "      <th>1</th>\n",
       "      <td>2002</td>\n",
       "      <td>57,63</td>\n",
       "      <td>4,13</td>\n",
       "      <td>-0,95</td>\n",
       "    </tr>\n",
       "    <tr>\n",
       "      <th>2</th>\n",
       "      <td>2003</td>\n",
       "      <td>58,69</td>\n",
       "      <td>4,18</td>\n",
       "      <td>-0,33</td>\n",
       "    </tr>\n",
       "    <tr>\n",
       "      <th>3</th>\n",
       "      <td>2004</td>\n",
       "      <td>73,68</td>\n",
       "      <td>4,98</td>\n",
       "      <td>0,56</td>\n",
       "    </tr>\n",
       "    <tr>\n",
       "      <th>4</th>\n",
       "      <td>2005</td>\n",
       "      <td>44,38</td>\n",
       "      <td>2,84</td>\n",
       "      <td>-3,24</td>\n",
       "    </tr>\n",
       "  </tbody>\n",
       "</table>\n",
       "</div>"
      ],
      "text/plain": [
       "   Year Response Factor_1_Х1 Factor_2_Х2\n",
       "0  2001    56,09        2,62       -3,35\n",
       "1  2002    57,63        4,13       -0,95\n",
       "2  2003    58,69        4,18       -0,33\n",
       "3  2004    73,68        4,98        0,56\n",
       "4  2005    44,38        2,84       -3,24"
      ]
     },
     "execution_count": 3,
     "metadata": {},
     "output_type": "execute_result"
    }
   ],
   "source": [
    "frame = frame.rename(columns={'Unnamed: 0': 'Year', 'Y': 'Response' , 'X1': 'Factor_1_Х1' , 'X2': 'Factor_2_Х2'})\n",
    "frame.head()"
   ]
  },
  {
   "cell_type": "code",
   "execution_count": 4,
   "metadata": {
    "collapsed": false
   },
   "outputs": [],
   "source": [
    "#Перевод данных в рабочий вид, замена запятых на точки и перевод в тип float\n",
    "frame['Response'] = frame['Response'].apply(lambda x: x.replace(',', '.'))\n",
    "frame['Factor_1_Х1'] = frame['Factor_1_Х1'].apply(lambda x: x.replace(',', '.'))\n",
    "frame['Factor_2_Х2'] = frame['Factor_2_Х2'].apply(lambda x: x.replace(',', '.'))\n",
    "frame['Response'] = frame['Response'].apply(lambda x: float(x))\n",
    "frame['Factor_1_Х1'] = frame['Factor_1_Х1'].apply(lambda x: float(x))\n",
    "frame['Factor_2_Х2'] = frame['Factor_2_Х2'].apply(lambda x: float(x))"
   ]
  },
  {
   "cell_type": "code",
   "execution_count": 69,
   "metadata": {
    "collapsed": false
   },
   "outputs": [
    {
     "data": {
      "text/html": [
       "<div>\n",
       "<table border=\"1\" class=\"dataframe\">\n",
       "  <thead>\n",
       "    <tr style=\"text-align: right;\">\n",
       "      <th></th>\n",
       "      <th>Year</th>\n",
       "      <th>Response</th>\n",
       "      <th>Factor_1_Х1</th>\n",
       "      <th>Factor_2_Х2</th>\n",
       "    </tr>\n",
       "  </thead>\n",
       "  <tbody>\n",
       "    <tr>\n",
       "      <th>0</th>\n",
       "      <td>2001</td>\n",
       "      <td>56.09</td>\n",
       "      <td>2.62</td>\n",
       "      <td>-3.35</td>\n",
       "    </tr>\n",
       "    <tr>\n",
       "      <th>1</th>\n",
       "      <td>2002</td>\n",
       "      <td>57.63</td>\n",
       "      <td>4.13</td>\n",
       "      <td>-0.95</td>\n",
       "    </tr>\n",
       "    <tr>\n",
       "      <th>2</th>\n",
       "      <td>2003</td>\n",
       "      <td>58.69</td>\n",
       "      <td>4.18</td>\n",
       "      <td>-0.33</td>\n",
       "    </tr>\n",
       "    <tr>\n",
       "      <th>3</th>\n",
       "      <td>2004</td>\n",
       "      <td>73.68</td>\n",
       "      <td>4.98</td>\n",
       "      <td>0.56</td>\n",
       "    </tr>\n",
       "    <tr>\n",
       "      <th>4</th>\n",
       "      <td>2005</td>\n",
       "      <td>44.38</td>\n",
       "      <td>2.84</td>\n",
       "      <td>-3.24</td>\n",
       "    </tr>\n",
       "  </tbody>\n",
       "</table>\n",
       "</div>"
      ],
      "text/plain": [
       "   Year  Response  Factor_1_Х1  Factor_2_Х2\n",
       "0  2001     56.09         2.62        -3.35\n",
       "1  2002     57.63         4.13        -0.95\n",
       "2  2003     58.69         4.18        -0.33\n",
       "3  2004     73.68         4.98         0.56\n",
       "4  2005     44.38         2.84        -3.24"
      ]
     },
     "execution_count": 69,
     "metadata": {},
     "output_type": "execute_result"
    }
   ],
   "source": [
    "frame.head()\n",
    "#frame"
   ]
  },
  {
   "cell_type": "code",
   "execution_count": 6,
   "metadata": {
    "collapsed": false,
    "scrolled": false
   },
   "outputs": [
    {
     "data": {
      "image/png": "[encoded data removed]",
      "text/plain": [
       "<matplotlib.figure.Figure at 0x1fb8c59d4e0>"
      ]
     },
     "metadata": {},
     "output_type": "display_data"
    }
   ],
   "source": [
    "#Зависимость отзывов от двух факторов.\n",
    "ax = frame.plot.scatter('Response','Factor_1_Х1', s=70, color='DarkGreen', Label = \"Factor 1, X1\")\n",
    "frame.plot.scatter( 'Response','Factor_2_Х2', color='Red', s=70, Label = \"Factor 2, X2\", ax = ax)\n",
    "plt.legend(prop={'size': 14}, bbox_to_anchor=(1.3, 0.3), fontsize = 'small')\n",
    "xlabel('Response', fontdict=font, labelpad=None)\n",
    "ylabel('Factor', fontdict=font, labelpad=None);\n",
    "#ax.legend(bbox_to_anchor=(1.1, 1.05))\n",
    "#show()"
   ]
  },
  {
   "cell_type": "markdown",
   "metadata": {},
   "source": [
    "# 4.a Построить матричную диаграмму рассеяния наблюдений."
   ]
  },
  {
   "cell_type": "code",
   "execution_count": 7,
   "metadata": {
    "collapsed": false
   },
   "outputs": [
    {
     "data": {
      "image/png": "[encoded data removed]",
      "text/plain": [
       "<matplotlib.figure.Figure at 0x1fb8c59d748>"
      ]
     },
     "metadata": {},
     "output_type": "display_data"
    }
   ],
   "source": [
    "#fig = ff.create_scatterplotmatrix(frame, height=800, width=800)\n",
    "#py.iplot(fig)\n",
    "sns.set(style=\"ticks\")\n",
    "sns.pairplot(frame,diag_kind = 'hist');\n",
    "#show()"
   ]
  },
  {
   "cell_type": "code",
   "execution_count": 8,
   "metadata": {
    "collapsed": false
   },
   "outputs": [
    {
     "data": {
      "image/png": "[encoded data removed]",
      "text/plain": [
       "<matplotlib.figure.Figure at 0x1fb88839048>"
      ]
     },
     "metadata": {},
     "output_type": "display_data"
    }
   ],
   "source": [
    "# Test scatter plot\n",
    "df = pd.DataFrame(np.random.rand(150, 4), columns=['a', 'b', 'c', 'd'])\n",
    "df.plot.scatter('a','b')\n",
    "show()"
   ]
  },
  {
   "cell_type": "markdown",
   "metadata": {},
   "source": [
    "# 4.б Подогнать модель линейной регрессии: получить оценки параметров и их 99% -доверительные интервалы"
   ]
  },
  {
   "cell_type": "code",
   "execution_count": 9,
   "metadata": {
    "collapsed": false
   },
   "outputs": [
    {
     "name": "stdout",
     "output_type": "stream",
     "text": [
      "                 Year  Response  Factor_1_Х1  Factor_2_Х2\n",
      "Year         1.000000  0.319997    -0.012624     0.167514\n",
      "Response     0.319997  1.000000     0.482390     0.648094\n",
      "Factor_1_Х1 -0.012624  0.482390     1.000000    -0.038206\n",
      "Factor_2_Х2  0.167514  0.648094    -0.038206     1.000000\n"
     ]
    }
   ],
   "source": [
    "print(frame.corr())"
   ]
  },
  {
   "cell_type": "markdown",
   "metadata": {},
   "source": [
    "###### Несложно заметить, что кореляция Response самая сильная с фактором 2, потом с фактором 1 и чуть меньше с годом. Будем строить модель зависимости от 2 фактором Х1 и Х2"
   ]
  },
  {
   "cell_type": "code",
   "execution_count": 10,
   "metadata": {
    "collapsed": false
   },
   "outputs": [
    {
     "name": "stdout",
     "output_type": "stream",
     "text": [
      "[[ 4.09548459  2.9669591 ]]\n",
      "[ 48.12111521]\n"
     ]
    }
   ],
   "source": [
    "from sklearn.linear_model import LinearRegression\n",
    "\n",
    "lr = LinearRegression()\n",
    "lr.fit(frame[[\"Factor_1_Х1\"] + [\"Factor_2_Х2\"]], frame[[\"Response\"]])\n",
    "print(lr.coef_)\n",
    "print(lr.intercept_)"
   ]
  },
  {
   "cell_type": "code",
   "execution_count": 11,
   "metadata": {
    "collapsed": false
   },
   "outputs": [
    {
     "data": {
      "text/html": [
       "<table class=\"simpletable\">\n",
       "<caption>OLS Regression Results</caption>\n",
       "<tr>\n",
       "  <th>Dep. Variable:</th>        <td>Response</td>     <th>  R-squared:         </th> <td>   0.678</td>\n",
       "</tr>\n",
       "<tr>\n",
       "  <th>Model:</th>                   <td>OLS</td>       <th>  Adj. R-squared:    </th> <td>   0.645</td>\n",
       "</tr>\n",
       "<tr>\n",
       "  <th>Method:</th>             <td>Least Squares</td>  <th>  F-statistic:       </th> <td>   21.02</td>\n",
       "</tr>\n",
       "<tr>\n",
       "  <th>Date:</th>             <td>Sun, 20 May 2018</td> <th>  Prob (F-statistic):</th> <td>1.21e-05</td>\n",
       "</tr>\n",
       "<tr>\n",
       "  <th>Time:</th>                 <td>14:50:16</td>     <th>  Log-Likelihood:    </th> <td> -64.070</td>\n",
       "</tr>\n",
       "<tr>\n",
       "  <th>No. Observations:</th>      <td>    23</td>      <th>  AIC:               </th> <td>   134.1</td>\n",
       "</tr>\n",
       "<tr>\n",
       "  <th>Df Residuals:</th>          <td>    20</td>      <th>  BIC:               </th> <td>   137.5</td>\n",
       "</tr>\n",
       "<tr>\n",
       "  <th>Df Model:</th>              <td>     2</td>      <th>                     </th>     <td> </td>   \n",
       "</tr>\n",
       "<tr>\n",
       "  <th>Covariance Type:</th>      <td>nonrobust</td>    <th>                     </th>     <td> </td>   \n",
       "</tr>\n",
       "</table>\n",
       "<table class=\"simpletable\">\n",
       "<tr>\n",
       "       <td></td>          <th>coef</th>     <th>std err</th>      <th>t</th>      <th>P>|t|</th> <th>[99.0% Conf. Int.]</th> \n",
       "</tr>\n",
       "<tr>\n",
       "  <th>Intercept</th>   <td>   48.1211</td> <td>    3.866</td> <td>   12.446</td> <td> 0.000</td> <td>   37.120    59.123</td>\n",
       "</tr>\n",
       "<tr>\n",
       "  <th>Factor_1_Х1</th> <td>    4.0955</td> <td>    1.025</td> <td>    3.997</td> <td> 0.001</td> <td>    1.180     7.011</td>\n",
       "</tr>\n",
       "<tr>\n",
       "  <th>Factor_2_Х2</th> <td>    2.9670</td> <td>    0.565</td> <td>    5.254</td> <td> 0.000</td> <td>    1.360     4.574</td>\n",
       "</tr>\n",
       "</table>\n",
       "<table class=\"simpletable\">\n",
       "<tr>\n",
       "  <th>Omnibus:</th>       <td> 2.578</td> <th>  Durbin-Watson:     </th> <td>   1.699</td>\n",
       "</tr>\n",
       "<tr>\n",
       "  <th>Prob(Omnibus):</th> <td> 0.276</td> <th>  Jarque-Bera (JB):  </th> <td>   1.281</td>\n",
       "</tr>\n",
       "<tr>\n",
       "  <th>Skew:</th>          <td> 0.181</td> <th>  Prob(JB):          </th> <td>   0.527</td>\n",
       "</tr>\n",
       "<tr>\n",
       "  <th>Kurtosis:</th>      <td> 1.902</td> <th>  Cond. No.          </th> <td>    18.9</td>\n",
       "</tr>\n",
       "</table>"
      ],
      "text/plain": [
       "<class 'statsmodels.iolib.summary.Summary'>\n",
       "\"\"\"\n",
       "                            OLS Regression Results                            \n",
       "==============================================================================\n",
       "Dep. Variable:               Response   R-squared:                       0.678\n",
       "Model:                            OLS   Adj. R-squared:                  0.645\n",
       "Method:                 Least Squares   F-statistic:                     21.02\n",
       "Date:                Sun, 20 May 2018   Prob (F-statistic):           1.21e-05\n",
       "Time:                        14:50:16   Log-Likelihood:                -64.070\n",
       "No. Observations:                  23   AIC:                             134.1\n",
       "Df Residuals:                      20   BIC:                             137.5\n",
       "Df Model:                           2                                         \n",
       "Covariance Type:            nonrobust                                         \n",
       "===============================================================================\n",
       "                  coef    std err          t      P>|t|      [99.0% Conf. Int.]\n",
       "-------------------------------------------------------------------------------\n",
       "Intercept      48.1211      3.866     12.446      0.000        37.120    59.123\n",
       "Factor_1_Х1     4.0955      1.025      3.997      0.001         1.180     7.011\n",
       "Factor_2_Х2     2.9670      0.565      5.254      0.000         1.360     4.574\n",
       "==============================================================================\n",
       "Omnibus:                        2.578   Durbin-Watson:                   1.699\n",
       "Prob(Omnibus):                  0.276   Jarque-Bera (JB):                1.281\n",
       "Skew:                           0.181   Prob(JB):                        0.527\n",
       "Kurtosis:                       1.902   Cond. No.                         18.9\n",
       "==============================================================================\n",
       "\n",
       "Warnings:\n",
       "[1] Standard Errors assume that the covariance matrix of the errors is correctly specified.\n",
       "\"\"\""
      ]
     },
     "execution_count": 11,
     "metadata": {},
     "output_type": "execute_result"
    }
   ],
   "source": [
    "import statsmodels.formula.api as sm\n",
    "\n",
    "model = sm.ols(formula='Response ~ Factor_1_Х1+Factor_2_Х2', data = frame)\n",
    "fitted = model.fit(alpha = 0.1)\n",
    "fitted.summary( alpha=0.01 )"
   ]
  },
  {
   "cell_type": "markdown",
   "metadata": {},
   "source": [
    "#### Смотрим на парамер P,   с достоверностью 99 %  оба фактора значимы в данной модели. "
   ]
  },
  {
   "cell_type": "code",
   "execution_count": 12,
   "metadata": {
    "collapsed": false
   },
   "outputs": [
    {
     "name": "stdout",
     "output_type": "stream",
     "text": [
      "[[ 4.09548459  2.9669591 ]]\n",
      "[ 48.12111521]\n"
     ]
    },
    {
     "data": {
      "text/html": [
       "<div>\n",
       "<table border=\"1\" class=\"dataframe\">\n",
       "  <thead>\n",
       "    <tr style=\"text-align: right;\">\n",
       "      <th></th>\n",
       "      <th>0</th>\n",
       "      <th>1</th>\n",
       "    </tr>\n",
       "  </thead>\n",
       "  <tbody>\n",
       "    <tr>\n",
       "      <th>Intercept</th>\n",
       "      <td>40.055762</td>\n",
       "      <td>56.186469</td>\n",
       "    </tr>\n",
       "    <tr>\n",
       "      <th>Factor_1_Х1</th>\n",
       "      <td>1.958321</td>\n",
       "      <td>6.232648</td>\n",
       "    </tr>\n",
       "    <tr>\n",
       "      <th>Factor_2_Х2</th>\n",
       "      <td>1.788904</td>\n",
       "      <td>4.145014</td>\n",
       "    </tr>\n",
       "  </tbody>\n",
       "</table>\n",
       "</div>"
      ],
      "text/plain": [
       "                     0          1\n",
       "Intercept    40.055762  56.186469\n",
       "Factor_1_Х1   1.958321   6.232648\n",
       "Factor_2_Х2   1.788904   4.145014"
      ]
     },
     "execution_count": 12,
     "metadata": {},
     "output_type": "execute_result"
    }
   ],
   "source": [
    "print(lr.coef_)\n",
    "print(lr.intercept_)\n",
    "fitted.conf_int(alpha=0.05, cols=None)#Доверительный интервал 95 % точность"
   ]
  },
  {
   "cell_type": "code",
   "execution_count": 13,
   "metadata": {
    "collapsed": false
   },
   "outputs": [
    {
     "name": "stdout",
     "output_type": "stream",
     "text": [
      "[[ 4.09548459  2.9669591 ]]\n",
      "[ 48.12111521]\n",
      "Доверительные интервалы параметров с точностью 99 %\n"
     ]
    },
    {
     "data": {
      "text/html": [
       "<div>\n",
       "<table border=\"1\" class=\"dataframe\">\n",
       "  <thead>\n",
       "    <tr style=\"text-align: right;\">\n",
       "      <th></th>\n",
       "      <th>0</th>\n",
       "      <th>1</th>\n",
       "    </tr>\n",
       "  </thead>\n",
       "  <tbody>\n",
       "    <tr>\n",
       "      <th>Intercept</th>\n",
       "      <td>37.119642</td>\n",
       "      <td>59.122588</td>\n",
       "    </tr>\n",
       "    <tr>\n",
       "      <th>Factor_1_Х1</th>\n",
       "      <td>1.180305</td>\n",
       "      <td>7.010664</td>\n",
       "    </tr>\n",
       "    <tr>\n",
       "      <th>Factor_2_Х2</th>\n",
       "      <td>1.360044</td>\n",
       "      <td>4.573874</td>\n",
       "    </tr>\n",
       "  </tbody>\n",
       "</table>\n",
       "</div>"
      ],
      "text/plain": [
       "                     0          1\n",
       "Intercept    37.119642  59.122588\n",
       "Factor_1_Х1   1.180305   7.010664\n",
       "Factor_2_Х2   1.360044   4.573874"
      ]
     },
     "execution_count": 13,
     "metadata": {},
     "output_type": "execute_result"
    }
   ],
   "source": [
    "print(lr.coef_)\n",
    "print(lr.intercept_)\n",
    "print(\"Доверительные интервалы параметров с точностью 99 %\")\n",
    "fitted.conf_int(alpha=0.01, cols=None)#Доверительный интервал 99 % точность"
   ]
  },
  {
   "cell_type": "markdown",
   "metadata": {},
   "source": [
    "## Модель линейной регрессии описываеться уравнением:    Response = 4.095* Factor_1_Х1 + 2.967* Factor_2_Х2 + 48.121 "
   ]
  },
  {
   "cell_type": "markdown",
   "metadata": {},
   "source": [
    "### 3D График\n",
    "###### Модель линейной регрессии описываеться уравнением:    Response = 4.095* Factor_1_Х1 + 2.967* Factor_2_Х2 + 48.121\n",
    "###### Эта плоскость может быть переписана  4.095* x + 2.967 * y  - z + 48.121 = 0 \n",
    "###### Вектор нормали имеет вид: (4.095, 2.967, -1)\n",
    "###### точка на плоскости (-48.121/4.095,0,0) = (-11.751,0,0)"
   ]
  },
  {
   "cell_type": "code",
   "execution_count": 14,
   "metadata": {
    "collapsed": true
   },
   "outputs": [],
   "source": [
    "normal = np.array([4.095,2.967,-1])\n",
    "point  = np.array([-11.751,0,0])\n",
    "# a plane is a*x + b*y +c*z + d = 0\n",
    "# [a,b,c] is the normal. Thus, we have to calculate\n",
    "# d and we're set\n",
    "d = -np.sum(point*normal) # dot product\n",
    "# create x,y\n",
    "x, y = np.meshgrid(range(1,6), range(-5,2))\n",
    "# calculate corresponding z\n",
    "z = (-normal[0]*x - normal[1]*y - d)*1./normal[2]"
   ]
  },
  {
   "cell_type": "code",
   "execution_count": 15,
   "metadata": {
    "collapsed": false
   },
   "outputs": [
    {
     "data": {
      "image/png": "[encoded data removed]",
      "text/plain": [
       "<matplotlib.figure.Figure at 0x1fb8e9f9ba8>"
      ]
     },
     "metadata": {},
     "output_type": "display_data"
    }
   ],
   "source": [
    "from mpl_toolkits.mplot3d import Axes3D\n",
    "fig = plt.figure()\n",
    "fig.suptitle('Regression: Response ~ A* Factor_1_Х1 + B* Factor_2_Х2 + C')\n",
    "ax = Axes3D(fig)\n",
    "\n",
    "ax.set_xlabel('Factor_1_Х1')\n",
    "ax.set_ylabel('Factor_2_Х2')\n",
    "ax.set_zlabel('Response')\n",
    "ax.scatter(frame.Factor_1_Х1, frame.Factor_2_Х2, frame.Response, c='red')\n",
    "ax.plot_surface(x,y,z, color='cyan', alpha=0.3);\n",
    "ax.view_init(30, 65)#поворот графика"
   ]
  },
  {
   "cell_type": "markdown",
   "metadata": {},
   "source": [
    "#### Анализ моделей зависящей не только от факторов 1 и 2 но и от года"
   ]
  },
  {
   "cell_type": "code",
   "execution_count": 16,
   "metadata": {
    "collapsed": false
   },
   "outputs": [
    {
     "data": {
      "text/html": [
       "<table class=\"simpletable\">\n",
       "<caption>OLS Regression Results</caption>\n",
       "<tr>\n",
       "  <th>Dep. Variable:</th>        <td>Response</td>     <th>  R-squared:         </th> <td>   0.725</td>\n",
       "</tr>\n",
       "<tr>\n",
       "  <th>Model:</th>                   <td>OLS</td>       <th>  Adj. R-squared:    </th> <td>   0.682</td>\n",
       "</tr>\n",
       "<tr>\n",
       "  <th>Method:</th>             <td>Least Squares</td>  <th>  F-statistic:       </th> <td>   16.70</td>\n",
       "</tr>\n",
       "<tr>\n",
       "  <th>Date:</th>             <td>Sun, 20 May 2018</td> <th>  Prob (F-statistic):</th> <td>1.48e-05</td>\n",
       "</tr>\n",
       "<tr>\n",
       "  <th>Time:</th>                 <td>14:50:17</td>     <th>  Log-Likelihood:    </th> <td> -62.242</td>\n",
       "</tr>\n",
       "<tr>\n",
       "  <th>No. Observations:</th>      <td>    23</td>      <th>  AIC:               </th> <td>   132.5</td>\n",
       "</tr>\n",
       "<tr>\n",
       "  <th>Df Residuals:</th>          <td>    19</td>      <th>  BIC:               </th> <td>   137.0</td>\n",
       "</tr>\n",
       "<tr>\n",
       "  <th>Df Model:</th>              <td>     3</td>      <th>                     </th>     <td> </td>   \n",
       "</tr>\n",
       "<tr>\n",
       "  <th>Covariance Type:</th>      <td>nonrobust</td>    <th>                     </th>     <td> </td>   \n",
       "</tr>\n",
       "</table>\n",
       "<table class=\"simpletable\">\n",
       "<tr>\n",
       "       <td></td>          <th>coef</th>     <th>std err</th>      <th>t</th>      <th>P>|t|</th> <th>[99.0% Conf. Int.]</th> \n",
       "</tr>\n",
       "<tr>\n",
       "  <th>Intercept</th>   <td> -414.8238</td> <td>  255.900</td> <td>   -1.621</td> <td> 0.121</td> <td>-1146.937   317.289</td>\n",
       "</tr>\n",
       "<tr>\n",
       "  <th>Factor_1_Х1</th> <td>    4.1066</td> <td>    0.971</td> <td>    4.230</td> <td> 0.000</td> <td>    1.329     6.884</td>\n",
       "</tr>\n",
       "<tr>\n",
       "  <th>Factor_2_Х2</th> <td>    2.8028</td> <td>    0.543</td> <td>    5.164</td> <td> 0.000</td> <td>    1.250     4.356</td>\n",
       "</tr>\n",
       "<tr>\n",
       "  <th>Year</th>        <td>    0.2299</td> <td>    0.127</td> <td>    1.809</td> <td> 0.086</td> <td>   -0.134     0.594</td>\n",
       "</tr>\n",
       "</table>\n",
       "<table class=\"simpletable\">\n",
       "<tr>\n",
       "  <th>Omnibus:</th>       <td> 3.768</td> <th>  Durbin-Watson:     </th> <td>   2.032</td>\n",
       "</tr>\n",
       "<tr>\n",
       "  <th>Prob(Omnibus):</th> <td> 0.152</td> <th>  Jarque-Bera (JB):  </th> <td>   2.485</td>\n",
       "</tr>\n",
       "<tr>\n",
       "  <th>Skew:</th>          <td> 0.801</td> <th>  Prob(JB):          </th> <td>   0.289</td>\n",
       "</tr>\n",
       "<tr>\n",
       "  <th>Kurtosis:</th>      <td> 3.171</td> <th>  Cond. No.          </th> <td>6.19e+05</td>\n",
       "</tr>\n",
       "</table>"
      ],
      "text/plain": [
       "<class 'statsmodels.iolib.summary.Summary'>\n",
       "\"\"\"\n",
       "                            OLS Regression Results                            \n",
       "==============================================================================\n",
       "Dep. Variable:               Response   R-squared:                       0.725\n",
       "Model:                            OLS   Adj. R-squared:                  0.682\n",
       "Method:                 Least Squares   F-statistic:                     16.70\n",
       "Date:                Sun, 20 May 2018   Prob (F-statistic):           1.48e-05\n",
       "Time:                        14:50:17   Log-Likelihood:                -62.242\n",
       "No. Observations:                  23   AIC:                             132.5\n",
       "Df Residuals:                      19   BIC:                             137.0\n",
       "Df Model:                           3                                         \n",
       "Covariance Type:            nonrobust                                         \n",
       "===============================================================================\n",
       "                  coef    std err          t      P>|t|      [99.0% Conf. Int.]\n",
       "-------------------------------------------------------------------------------\n",
       "Intercept    -414.8238    255.900     -1.621      0.121     -1146.937   317.289\n",
       "Factor_1_Х1     4.1066      0.971      4.230      0.000         1.329     6.884\n",
       "Factor_2_Х2     2.8028      0.543      5.164      0.000         1.250     4.356\n",
       "Year            0.2299      0.127      1.809      0.086        -0.134     0.594\n",
       "==============================================================================\n",
       "Omnibus:                        3.768   Durbin-Watson:                   2.032\n",
       "Prob(Omnibus):                  0.152   Jarque-Bera (JB):                2.485\n",
       "Skew:                           0.801   Prob(JB):                        0.289\n",
       "Kurtosis:                       3.171   Cond. No.                     6.19e+05\n",
       "==============================================================================\n",
       "\n",
       "Warnings:\n",
       "[1] Standard Errors assume that the covariance matrix of the errors is correctly specified.\n",
       "[2] The condition number is large, 6.19e+05. This might indicate that there are\n",
       "strong multicollinearity or other numerical problems.\n",
       "\"\"\""
      ]
     },
     "execution_count": 16,
     "metadata": {},
     "output_type": "execute_result"
    }
   ],
   "source": [
    "model_0 = sm.ols(formula='Response ~ Factor_1_Х1 + Factor_2_Х2 + Year', data = frame)\n",
    "fitted_0 = model_0.fit()\n",
    "fitted_0.summary(alpha = 0.01)"
   ]
  },
  {
   "cell_type": "markdown",
   "metadata": {},
   "source": [
    "##### Смотрим на парамер P,  по сравнению с факторами 1 и 2, год(P = 0.086) в данной модели не являеться значимым, хотя параметр \tR-squared: увеличился, и вроде бы как модель улучшилась. "
   ]
  },
  {
   "cell_type": "markdown",
   "metadata": {},
   "source": [
    "#####  Анализ модели зависящей только от года и фактора 2"
   ]
  },
  {
   "cell_type": "code",
   "execution_count": 17,
   "metadata": {
    "collapsed": false
   },
   "outputs": [
    {
     "data": {
      "text/html": [
       "<table class=\"simpletable\">\n",
       "<caption>OLS Regression Results</caption>\n",
       "<tr>\n",
       "  <th>Dep. Variable:</th>        <td>Response</td>     <th>  R-squared:         </th> <td>   0.466</td>\n",
       "</tr>\n",
       "<tr>\n",
       "  <th>Model:</th>                   <td>OLS</td>       <th>  Adj. R-squared:    </th> <td>   0.413</td>\n",
       "</tr>\n",
       "<tr>\n",
       "  <th>Method:</th>             <td>Least Squares</td>  <th>  F-statistic:       </th> <td>   8.727</td>\n",
       "</tr>\n",
       "<tr>\n",
       "  <th>Date:</th>             <td>Sun, 20 May 2018</td> <th>  Prob (F-statistic):</th>  <td>0.00188</td>\n",
       "</tr>\n",
       "<tr>\n",
       "  <th>Time:</th>                 <td>14:50:17</td>     <th>  Log-Likelihood:    </th> <td> -69.873</td>\n",
       "</tr>\n",
       "<tr>\n",
       "  <th>No. Observations:</th>      <td>    23</td>      <th>  AIC:               </th> <td>   145.7</td>\n",
       "</tr>\n",
       "<tr>\n",
       "  <th>Df Residuals:</th>          <td>    20</td>      <th>  BIC:               </th> <td>   149.2</td>\n",
       "</tr>\n",
       "<tr>\n",
       "  <th>Df Model:</th>              <td>     2</td>      <th>                     </th>     <td> </td>   \n",
       "</tr>\n",
       "<tr>\n",
       "  <th>Covariance Type:</th>      <td>nonrobust</td>    <th>                     </th>     <td> </td>   \n",
       "</tr>\n",
       "</table>\n",
       "<table class=\"simpletable\">\n",
       "<tr>\n",
       "       <td></td>          <th>coef</th>     <th>std err</th>      <th>t</th>      <th>P>|t|</th> <th>[95.0% Conf. Int.]</th> \n",
       "</tr>\n",
       "<tr>\n",
       "  <th>Intercept</th>   <td> -393.2791</td> <td>  347.480</td> <td>   -1.132</td> <td> 0.271</td> <td>-1118.111   331.552</td>\n",
       "</tr>\n",
       "<tr>\n",
       "  <th>Factor_2_Х2</th> <td>    2.7187</td> <td>    0.737</td> <td>    3.690</td> <td> 0.001</td> <td>    1.182     4.255</td>\n",
       "</tr>\n",
       "<tr>\n",
       "  <th>Year</th>        <td>    0.2266</td> <td>    0.173</td> <td>    1.313</td> <td> 0.204</td> <td>   -0.134     0.587</td>\n",
       "</tr>\n",
       "</table>\n",
       "<table class=\"simpletable\">\n",
       "<tr>\n",
       "  <th>Omnibus:</th>       <td> 0.219</td> <th>  Durbin-Watson:     </th> <td>   2.566</td>\n",
       "</tr>\n",
       "<tr>\n",
       "  <th>Prob(Omnibus):</th> <td> 0.896</td> <th>  Jarque-Bera (JB):  </th> <td>   0.354</td>\n",
       "</tr>\n",
       "<tr>\n",
       "  <th>Skew:</th>          <td> 0.192</td> <th>  Prob(JB):          </th> <td>   0.838</td>\n",
       "</tr>\n",
       "<tr>\n",
       "  <th>Kurtosis:</th>      <td> 2.529</td> <th>  Cond. No.          </th> <td>6.19e+05</td>\n",
       "</tr>\n",
       "</table>"
      ],
      "text/plain": [
       "<class 'statsmodels.iolib.summary.Summary'>\n",
       "\"\"\"\n",
       "                            OLS Regression Results                            \n",
       "==============================================================================\n",
       "Dep. Variable:               Response   R-squared:                       0.466\n",
       "Model:                            OLS   Adj. R-squared:                  0.413\n",
       "Method:                 Least Squares   F-statistic:                     8.727\n",
       "Date:                Sun, 20 May 2018   Prob (F-statistic):            0.00188\n",
       "Time:                        14:50:17   Log-Likelihood:                -69.873\n",
       "No. Observations:                  23   AIC:                             145.7\n",
       "Df Residuals:                      20   BIC:                             149.2\n",
       "Df Model:                           2                                         \n",
       "Covariance Type:            nonrobust                                         \n",
       "===============================================================================\n",
       "                  coef    std err          t      P>|t|      [95.0% Conf. Int.]\n",
       "-------------------------------------------------------------------------------\n",
       "Intercept    -393.2791    347.480     -1.132      0.271     -1118.111   331.552\n",
       "Factor_2_Х2     2.7187      0.737      3.690      0.001         1.182     4.255\n",
       "Year            0.2266      0.173      1.313      0.204        -0.134     0.587\n",
       "==============================================================================\n",
       "Omnibus:                        0.219   Durbin-Watson:                   2.566\n",
       "Prob(Omnibus):                  0.896   Jarque-Bera (JB):                0.354\n",
       "Skew:                           0.192   Prob(JB):                        0.838\n",
       "Kurtosis:                       2.529   Cond. No.                     6.19e+05\n",
       "==============================================================================\n",
       "\n",
       "Warnings:\n",
       "[1] Standard Errors assume that the covariance matrix of the errors is correctly specified.\n",
       "[2] The condition number is large, 6.19e+05. This might indicate that there are\n",
       "strong multicollinearity or other numerical problems.\n",
       "\"\"\""
      ]
     },
     "execution_count": 17,
     "metadata": {},
     "output_type": "execute_result"
    }
   ],
   "source": [
    "model_1 = sm.ols(formula='Response ~ Factor_2_Х2 + Year', data = frame)\n",
    "fitted_1 = model_1.fit()\n",
    "fitted_1.summary()"
   ]
  },
  {
   "cell_type": "markdown",
   "metadata": {},
   "source": [
    "##### Аналогично предидущим достверность для года не очень."
   ]
  },
  {
   "cell_type": "markdown",
   "metadata": {},
   "source": [
    "# 4.с  Провести анализ выполнения предположений линейной модели: нормальность остатков, однородность дисперсий"
   ]
  },
  {
   "cell_type": "code",
   "execution_count": 42,
   "metadata": {
    "collapsed": false
   },
   "outputs": [
    {
     "data": {
      "text/plain": [
       "array([ 1.70646026, -1.0904508 , -1.32444958,  0.83251409, -1.36919101,\n",
       "       -0.07971903, -0.81408659, -0.22000854, -0.31504033, -1.44967158,\n",
       "       -0.71775128, -0.72652715,  1.34065745, -0.07231346,  0.29080483,\n",
       "        1.42068908, -0.50019799, -0.36291664, -0.07112461,  0.49761932,\n",
       "        1.0756516 ,  0.87669309,  1.07235887])"
      ]
     },
     "execution_count": 42,
     "metadata": {},
     "output_type": "execute_result"
    }
   ],
   "source": [
    "fitted.resid_pearson\n",
    "#fitted.resid"
   ]
  },
  {
   "cell_type": "code",
   "execution_count": 44,
   "metadata": {
    "collapsed": false
   },
   "outputs": [
    {
     "data": {
      "image/png": "[encoded data removed]",
      "text/plain": [
       "<matplotlib.figure.Figure at 0x1fb8e58dd30>"
      ]
     },
     "metadata": {},
     "output_type": "display_data"
    }
   ],
   "source": [
    "fitted.resid.plot.density();"
   ]
  },
  {
   "cell_type": "markdown",
   "metadata": {},
   "source": [
    "##### Очень похоже на нормальное расспределение)))) "
   ]
  },
  {
   "cell_type": "markdown",
   "metadata": {},
   "source": [
    "## Теперь проверим однородность дисперсий или Homoscedasticity"
   ]
  },
  {
   "cell_type": "markdown",
   "metadata": {},
   "source": [
    "##### Тест Бройша — Пагана или Бреуша — Пагана (англ. Breusch-Pagan test) — один из статистических тестов для проверки наличия гетероскедастичности случайных ошибок регрессионной модели. Применяется, если есть основания полагать, что дисперсия случайных ошибок может зависеть от некоторой совокупности переменных. При этом в данном тесте проверяется линейная зависимость дисперсии случайных ошибок от некоторого набора переменных."
   ]
  },
  {
   "cell_type": "code",
   "execution_count": 67,
   "metadata": {
    "collapsed": false
   },
   "outputs": [
    {
     "name": "stdout",
     "output_type": "stream",
     "text": [
      "p-value:  0.000369938509156\n"
     ]
    }
   ],
   "source": [
    "from statsmodels.stats import diagnostic as dia\n",
    "het = dia.het_breushpagan(fitted.resid,frame[['Factor_1_Х1','Factor_2_Х2']][0:])\n",
    "\n",
    "print ('p-value: ', het[-1])"
   ]
  },
  {
   "cell_type": "markdown",
   "metadata": {},
   "source": [
    "#####   Так как данное значение почти 0 то мы имеем однородную вариативность значений наблюдений. Гетероскедастичность не обнаружена"
   ]
  },
  {
   "cell_type": "code",
   "execution_count": null,
   "metadata": {
    "collapsed": true
   },
   "outputs": [],
   "source": []
  },
  {
   "cell_type": "markdown",
   "metadata": {},
   "source": [
    "# 4.d  Спрогнозировать значение отклика и его 95% -доверительный интервалы для X1 = 5, X2 = - 0.5."
   ]
  },
  {
   "cell_type": "markdown",
   "metadata": {},
   "source": [
    "###### Даные значение величин(X1 = 5, X2 = - 0.5) лежат в допустимых границах прогнозирования, поэтому подставим их в нашу модель, при этом пересчитаем доверительные интервалы для коэфициентов для вероятности 95 %"
   ]
  },
  {
   "cell_type": "code",
   "execution_count": 71,
   "metadata": {
    "collapsed": false
   },
   "outputs": [
    {
     "data": {
      "text/html": [
       "<div>\n",
       "<table border=\"1\" class=\"dataframe\">\n",
       "  <thead>\n",
       "    <tr style=\"text-align: right;\">\n",
       "      <th></th>\n",
       "      <th>0</th>\n",
       "      <th>1</th>\n",
       "    </tr>\n",
       "  </thead>\n",
       "  <tbody>\n",
       "    <tr>\n",
       "      <th>Intercept</th>\n",
       "      <td>40.055762</td>\n",
       "      <td>56.186469</td>\n",
       "    </tr>\n",
       "    <tr>\n",
       "      <th>Factor_1_Х1</th>\n",
       "      <td>1.958321</td>\n",
       "      <td>6.232648</td>\n",
       "    </tr>\n",
       "    <tr>\n",
       "      <th>Factor_2_Х2</th>\n",
       "      <td>1.788904</td>\n",
       "      <td>4.145014</td>\n",
       "    </tr>\n",
       "  </tbody>\n",
       "</table>\n",
       "</div>"
      ],
      "text/plain": [
       "                     0          1\n",
       "Intercept    40.055762  56.186469\n",
       "Factor_1_Х1   1.958321   6.232648\n",
       "Factor_2_Х2   1.788904   4.145014"
      ]
     },
     "execution_count": 71,
     "metadata": {},
     "output_type": "execute_result"
    }
   ],
   "source": [
    "fitted.conf_int(alpha=0.05, cols=None)#Доверительный интервал 95 % точность"
   ]
  },
  {
   "cell_type": "code",
   "execution_count": 97,
   "metadata": {
    "collapsed": false
   },
   "outputs": [
    {
     "data": {
      "text/plain": [
       "array([ 48.91197186,  62.21685543,  64.2611443 ,  70.17812557,\n",
       "        50.13934397,  53.54532888,  56.07436129,  59.00544052,\n",
       "        59.57518079,  57.77787617,  59.86913794,  61.48605262,\n",
       "        53.94067918,  45.84417821,  54.01676306,  65.70403538,\n",
       "        60.50402512,  64.55656694,  58.58917744,  54.54682175,\n",
       "        57.81539569,  61.88229172,  64.34924618])"
      ]
     },
     "execution_count": 97,
     "metadata": {},
     "output_type": "execute_result"
    }
   ],
   "source": [
    "#model.predict([1,2])\n",
    "fitted.predict()"
   ]
  },
  {
   "cell_type": "code",
   "execution_count": 104,
   "metadata": {
    "collapsed": false
   },
   "outputs": [
    {
     "ename": "AttributeError",
     "evalue": "'OLSResults' object has no attribute 'PredictionResults'",
     "output_type": "error",
     "traceback": [
      "\u001b[0;31m---------------------------------------------------------------------------\u001b[0m",
      "\u001b[0;31mAttributeError\u001b[0m                            Traceback (most recent call last)",
      "\u001b[0;32m<ipython-input-104-38dcb19cd767>\u001b[0m in \u001b[0;36m<module>\u001b[0;34m()\u001b[0m\n\u001b[0;32m----> 1\u001b[0;31m \u001b[0mfitted\u001b[0m\u001b[1;33m.\u001b[0m\u001b[0mPredictionResults\u001b[0m\u001b[1;33m\u001b[0m\u001b[0m\n\u001b[0m",
      "\u001b[0;32mC:\\Users\\Alex\\Anaconda3\\lib\\site-packages\\statsmodels\\base\\wrapper.py\u001b[0m in \u001b[0;36m__getattribute__\u001b[0;34m(self, attr)\u001b[0m\n\u001b[1;32m     33\u001b[0m             \u001b[1;32mpass\u001b[0m\u001b[1;33m\u001b[0m\u001b[0m\n\u001b[1;32m     34\u001b[0m \u001b[1;33m\u001b[0m\u001b[0m\n\u001b[0;32m---> 35\u001b[0;31m         \u001b[0mobj\u001b[0m \u001b[1;33m=\u001b[0m \u001b[0mgetattr\u001b[0m\u001b[1;33m(\u001b[0m\u001b[0mresults\u001b[0m\u001b[1;33m,\u001b[0m \u001b[0mattr\u001b[0m\u001b[1;33m)\u001b[0m\u001b[1;33m\u001b[0m\u001b[0m\n\u001b[0m\u001b[1;32m     36\u001b[0m         \u001b[0mdata\u001b[0m \u001b[1;33m=\u001b[0m \u001b[0mresults\u001b[0m\u001b[1;33m.\u001b[0m\u001b[0mmodel\u001b[0m\u001b[1;33m.\u001b[0m\u001b[0mdata\u001b[0m\u001b[1;33m\u001b[0m\u001b[0m\n\u001b[1;32m     37\u001b[0m         \u001b[0mhow\u001b[0m \u001b[1;33m=\u001b[0m \u001b[0mself\u001b[0m\u001b[1;33m.\u001b[0m\u001b[0m_wrap_attrs\u001b[0m\u001b[1;33m.\u001b[0m\u001b[0mget\u001b[0m\u001b[1;33m(\u001b[0m\u001b[0mattr\u001b[0m\u001b[1;33m)\u001b[0m\u001b[1;33m\u001b[0m\u001b[0m\n",
      "\u001b[0;31mAttributeError\u001b[0m: 'OLSResults' object has no attribute 'PredictionResults'"
     ]
    }
   ],
   "source": [
    "fitted.PredictionResults"
   ]
  },
  {
   "cell_type": "markdown",
   "metadata": {},
   "source": [
    "## Тестовые вещи по программе"
   ]
  },
  {
   "cell_type": "code",
   "execution_count": null,
   "metadata": {
    "collapsed": false
   },
   "outputs": [],
   "source": [
    "#import statsmodels.formula.api as sm\n",
    "#model = sm.ols(formula='Response ~ Factor_2_Х2', data = frame)\n",
    "#fitted = model.fit()\n",
    "#fitted.summary().tables[1]"
   ]
  },
  {
   "cell_type": "code",
   "execution_count": null,
   "metadata": {
    "collapsed": false
   },
   "outputs": [],
   "source": [
    "#from sklearn.linear_model import LinearRegression\n",
    "#lr = LinearRegression()\n",
    "#lr.fit(frame[[\"Factor_1_Х1\"]], frame[[\"Response\"]])\n",
    "#print(lr.coef_)\n",
    "#print(lr.intercept_)"
   ]
  }
 ],
 "metadata": {
  "kernelspec": {
   "display_name": "Python 3",
   "language": "python",
   "name": "python3"
  },
  "language_info": {
   "codemirror_mode": {
    "name": "ipython",
    "version": 3
   },
   "file_extension": ".py",
   "mimetype": "text/x-python",
   "name": "python",
   "nbconvert_exporter": "python",
   "pygments_lexer": "ipython3",
   "version": "3.6.0"
  }
 },
 "nbformat": 4,
 "nbformat_minor": 2
}
