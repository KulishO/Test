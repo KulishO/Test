{
 "cells": [
  {
   "cell_type": "code",
   "execution_count": 1,
   "metadata": {},
   "outputs": [],
   "source": [
    "import numpy as np\n",
    "import random\n",
    "import copy\n",
    "import sys"
   ]
  },
  {
   "cell_type": "code",
   "execution_count": 2,
   "metadata": {},
   "outputs": [],
   "source": [
    "def MAT(): # вводим матрицу системы с клавиатуры, плюс правая часть. \n",
    "    print(\"Введите колиичество уравнений: \", end=\"\")\n",
    "    n = int(input())\n",
    "    Mat = np.zeros((n, n)) #создам нулевую матрицу размерности n*n\n",
    "    B = np.zeros((n, 1)) #создам нулевую матрицу размерности 1*n\n",
    "    print('Введите коэффициенты системы построчно:')\n",
    "    for i in range (n):\n",
    "        for j in range (n):\n",
    "            Mat[i][j] = float(input())\n",
    "    print('введите коэффициенты правой части:')\n",
    "    for j in range (n):\n",
    "        B[j] = float(input())\n",
    "    initialA = copy.copy(Mat) #глубокая копия матрицы которая не меняеться. \n",
    "    initialB = copy.copy(B)\n",
    "    print('Матрица системы A имеет вид:\\n', Mat)\n",
    "    print('Матрица право части B имеет вид:\\n', B)\n",
    "    return Mat,B,initialA,initialB"
   ]
  },
  {
   "cell_type": "code",
   "execution_count": 3,
   "metadata": {},
   "outputs": [],
   "source": [
    "def max1(matrix,j): #j это номер столбика где мы ищем максимум\n",
    "    max1 = matrix[j][j]\n",
    "    k = j # номер строки где будет максимум\n",
    "    for i in range(j+1, len(matrix)): #перебираем строки\n",
    "        if (abs(matrix[i][j]) > abs(max1)):\n",
    "            max1 = matrix[i][j]\n",
    "            k = i\n",
    "    return max1,k\n",
    "#функция возвращает кортедж двух елементов вытащить их Y=(max1(A,i)) Y[0] Y [1]"
   ]
  },
  {
   "cell_type": "code",
   "execution_count": 4,
   "metadata": {},
   "outputs": [
    {
     "name": "stdout",
     "output_type": "stream",
     "text": [
      "[[79 93  2 84 23]\n",
      " [91 46 67 29  3]\n",
      " [35  2 67 40 64]\n",
      " [ 9 13 53 28 32]\n",
      " [67 96  2 47 74]]\n",
      "5\n",
      "(91, 1)\n",
      "1\n",
      "(96, 4)\n",
      "4\n",
      "(67, 2)\n",
      "2\n",
      "(47, 4)\n",
      "4\n",
      "<class 'tuple'>\n"
     ]
    }
   ],
   "source": [
    "A = np.random.randint(1, 100, size=(5, 5)) #создание случайной матрицы.\n",
    "print(A)\n",
    "print(len(A))\n",
    "for i in range (len(A)-1):\n",
    "    Y=(max1(A,i))\n",
    "    print(Y)\n",
    "    print(Y[1])\n",
    "print(type(Y))"
   ]
  },
  {
   "cell_type": "code",
   "execution_count": 5,
   "metadata": {},
   "outputs": [],
   "source": [
    "def swaprows(matrix,i,j): # замена i-го рядка на j-тый в матрице matrix\n",
    "    matrix[i], matrix[j] = matrix[j], matrix[i].copy() # смена рядков матрицы местами.\n",
    "    return matrix"
   ]
  },
  {
   "cell_type": "code",
   "execution_count": 12,
   "metadata": {},
   "outputs": [],
   "source": [
    "def Gausse(matrix,B):\n",
    "    num = 0 # индикатор количества перестановок рядков для знака определиеля\n",
    "    a=0\n",
    "    for i in range (len(matrix)):\n",
    "       # print(matrix)\n",
    "        if a==1:\n",
    "            break\n",
    "        Y=(max1(matrix,i))\n",
    "        if Y[0] != 0:  # машинный ноль. \n",
    "            #Y[0] == sys.float_info.epsilon:  # машинный ноль. \n",
    "            if Y[0] != matrix[i][i]:\n",
    "                swaprows(matrix,i,Y[1])   \n",
    "                swaprows(B,i,Y[1])\n",
    "                print('Меняем рядки\\n',matrix)\n",
    "                num += 1\n",
    "                \n",
    "                for p in range (i+1,len(matrix)):    \n",
    "                    t = matrix[p][i]/matrix[i][i]\n",
    "                    B[p] = B[p] - t * B[i]\n",
    "                    matrix[p][i] = 0\n",
    "                    for l in range (i+1,len(matrix)):\n",
    "                        matrix[p][l] = matrix[p][l] - t * matrix[i][l]\n",
    "            print(matrix)\n",
    "        \n",
    "        elif Y[0] == 0:\n",
    "            print('Проблемы начинаються с',i + 1,'-го ряда')\n",
    "            a=1\n",
    "            break\n",
    "        #print(matrix)\n",
    "        print(B)\n",
    "    print('количество замен рядков',num)\n",
    "    return matrix, B"
   ]
  },
  {
   "cell_type": "code",
   "execution_count": null,
   "metadata": {},
   "outputs": [
    {
     "name": "stdout",
     "output_type": "stream",
     "text": [
      "Введите колиичество уравнений: "
     ]
    }
   ],
   "source": [
    "Mat, B, initialA, initialB= MAT()"
   ]
  },
  {
   "cell_type": "code",
   "execution_count": 6,
   "metadata": {},
   "outputs": [
    {
     "name": "stdout",
     "output_type": "stream",
     "text": [
      "\n",
      "[[99 35 38 33 17 33 94]\n",
      " [66 32 96 27 87 53 53]\n",
      " [ 7 24 35 24 74 43 59]\n",
      " [33 44 31 91 73 82 64]\n",
      " [24 87 67 43 26 90  5]\n",
      " [45 96 24 48  2 22 68]\n",
      " [20 28 19 32 77 72  7]]\n",
      "[[43]\n",
      " [85]\n",
      " [60]\n",
      " [64]\n",
      " [65]\n",
      " [56]\n",
      " [33]]\n"
     ]
    }
   ],
   "source": [
    "# проверка работы функции смены рядков\n",
    "A = np.random.randint(1, 100, size=(7, 7)) #создание случайной матрицы.\n",
    "B = np.random.randint(1, 100, size=(7, 1))\n",
    "#print(A)\n",
    "print('')\n",
    "#print('Смена 3 и 4 рядка:')\n",
    "#swaprows(A,2,3)\n",
    "print(A)\n",
    "print (B)"
   ]
  },
  {
   "cell_type": "code",
   "execution_count": 12,
   "metadata": {},
   "outputs": [
    {
     "name": "stdout",
     "output_type": "stream",
     "text": [
      "[[21 82 22 97 89 65 81]\n",
      " [67 70 25 39 53 40 24]\n",
      " [59 62 73 24  1 18 58]\n",
      " [ 1 14 60 27 17  7 56]\n",
      " [38 40 91 29 12 99 80]\n",
      " [29 76 96 37 81 18 86]\n",
      " [63  8 88 86 10 29 13]]\n",
      "Меняем рядки\n",
      " [[67 70 25 39 53 40 24]\n",
      " [21 82 22 97 89 65 81]\n",
      " [59 62 73 24  1 18 58]\n",
      " [ 1 14 60 27 17  7 56]\n",
      " [38 40 91 29 12 99 80]\n",
      " [29 76 96 37 81 18 86]\n",
      " [63  8 88 86 10 29 13]]\n",
      "[[ 67  70  25  39  53  40  24]\n",
      " [  0  60  14  84  72  52  73]\n",
      " [  0   0  50 -10 -45 -17  36]\n",
      " [  0  12  59  26  16   6  55]\n",
      " [  0   0  76   6 -18  76  66]\n",
      " [  0  45  85  20  58   0  75]\n",
      " [  0 -57  64  49 -39  -8  -9]]\n",
      "[[ 67  70  25  39  53  40  24]\n",
      " [  0  60  14  84  72  52  73]\n",
      " [  0   0  50 -10 -45 -17  36]\n",
      " [  0   0  56   9   1  -4  40]\n",
      " [  0   0  76   6 -18  76  66]\n",
      " [  0   0  74 -43   4 -39  20]\n",
      " [  0   0  77 128  29  41  60]]\n",
      "Меняем рядки\n",
      " [[ 67  70  25  39  53  40  24]\n",
      " [  0  60  14  84  72  52  73]\n",
      " [  0   0  77 128  29  41  60]\n",
      " [  0   0  56   9   1  -4  40]\n",
      " [  0   0  76   6 -18  76  66]\n",
      " [  0   0  74 -43   4 -39  20]\n",
      " [  0   0  50 -10 -45 -17  36]]\n",
      "[[  67   70   25   39   53   40   24]\n",
      " [   0   60   14   84   72   52   73]\n",
      " [   0    0   77  128   29   41   60]\n",
      " [   0    0    0  -84  -20  -33   -3]\n",
      " [   0    0    0 -120  -46   35    6]\n",
      " [   0    0    0 -166  -23  -78  -37]\n",
      " [   0    0    0  -93  -63  -43   -2]]\n",
      "Меняем рядки\n",
      " [[  67   70   25   39   53   40   24]\n",
      " [   0   60   14   84   72   52   73]\n",
      " [   0    0   77  128   29   41   60]\n",
      " [   0    0    0 -166  -23  -78  -37]\n",
      " [   0    0    0 -120  -46   35    6]\n",
      " [   0    0    0  -84  -20  -33   -3]\n",
      " [   0    0    0  -93  -63  -43   -2]]\n",
      "[[  67   70   25   39   53   40   24]\n",
      " [   0   60   14   84   72   52   73]\n",
      " [   0    0   77  128   29   41   60]\n",
      " [   0    0    0 -166  -23  -78  -37]\n",
      " [   0    0    0    0  -29   91   32]\n",
      " [   0    0    0    0   -8    6   15]\n",
      " [   0    0    0    0  -50    0   18]]\n",
      "Меняем рядки\n",
      " [[  67   70   25   39   53   40   24]\n",
      " [   0   60   14   84   72   52   73]\n",
      " [   0    0   77  128   29   41   60]\n",
      " [   0    0    0 -166  -23  -78  -37]\n",
      " [   0    0    0    0  -50    0   18]\n",
      " [   0    0    0    0   -8    6   15]\n",
      " [   0    0    0    0  -29   91   32]]\n",
      "[[  67   70   25   39   53   40   24]\n",
      " [   0   60   14   84   72   52   73]\n",
      " [   0    0   77  128   29   41   60]\n",
      " [   0    0    0 -166  -23  -78  -37]\n",
      " [   0    0    0    0  -50    0   18]\n",
      " [   0    0    0    0    0    6   12]\n",
      " [   0    0    0    0    0   91   21]]\n",
      "Меняем рядки\n",
      " [[  67   70   25   39   53   40   24]\n",
      " [   0   60   14   84   72   52   73]\n",
      " [   0    0   77  128   29   41   60]\n",
      " [   0    0    0 -166  -23  -78  -37]\n",
      " [   0    0    0    0  -50    0   18]\n",
      " [   0    0    0    0    0   91   21]\n",
      " [   0    0    0    0    0    6   12]]\n",
      "[[  67   70   25   39   53   40   24]\n",
      " [   0   60   14   84   72   52   73]\n",
      " [   0    0   77  128   29   41   60]\n",
      " [   0    0    0 -166  -23  -78  -37]\n",
      " [   0    0    0    0  -50    0   18]\n",
      " [   0    0    0    0    0   91   21]\n",
      " [   0    0    0    0    0    0   10]]\n",
      "[[ 37]\n",
      " [ -1]\n",
      " [ 22]\n",
      " [ 31]\n",
      " [-56]\n",
      " [  0]\n",
      " [-17]]\n",
      "количество замен рядков 5\n"
     ]
    },
    {
     "data": {
      "text/plain": [
       "(array([[  67,   70,   25,   39,   53,   40,   24],\n",
       "        [   0,   60,   14,   84,   72,   52,   73],\n",
       "        [   0,    0,   77,  128,   29,   41,   60],\n",
       "        [   0,    0,    0, -166,  -23,  -78,  -37],\n",
       "        [   0,    0,    0,    0,  -50,    0,   18],\n",
       "        [   0,    0,    0,    0,    0,   91,   21],\n",
       "        [   0,    0,    0,    0,    0,    0,   10]]), array([[ 37],\n",
       "        [ -1],\n",
       "        [ 22],\n",
       "        [ 31],\n",
       "        [-56],\n",
       "        [  0],\n",
       "        [-17]]))"
      ]
     },
     "execution_count": 12,
     "metadata": {},
     "output_type": "execute_result"
    }
   ],
   "source": [
    "Gausse(A,B)"
   ]
  },
  {
   "cell_type": "code",
   "execution_count": 9,
   "metadata": {},
   "outputs": [
    {
     "ename": "ValueError",
     "evalue": "The truth value of an array with more than one element is ambiguous. Use a.any() or a.all()",
     "output_type": "error",
     "traceback": [
      "\u001b[0;31m---------------------------------------------------------------------------\u001b[0m",
      "\u001b[0;31mValueError\u001b[0m                                Traceback (most recent call last)",
      "\u001b[0;32m<ipython-input-9-e3d28249e0e6>\u001b[0m in \u001b[0;36m<module>\u001b[0;34m()\u001b[0m\n\u001b[0;32m----> 1\u001b[0;31m \u001b[0mMat2\u001b[0m \u001b[1;33m=\u001b[0m \u001b[0mGausse\u001b[0m\u001b[1;33m(\u001b[0m\u001b[0mMat\u001b[0m\u001b[1;33m,\u001b[0m\u001b[0mB\u001b[0m\u001b[1;33m)\u001b[0m\u001b[1;33m\u001b[0m\u001b[0m\n\u001b[0m\u001b[1;32m      2\u001b[0m \u001b[1;31m#print((Mat2))\u001b[0m\u001b[1;33m\u001b[0m\u001b[1;33m\u001b[0m\u001b[0m\n",
      "\u001b[0;32m<ipython-input-5-5606e1cb13f7>\u001b[0m in \u001b[0;36mGausse\u001b[0;34m(matrix, B)\u001b[0m\n\u001b[1;32m      2\u001b[0m \u001b[1;33m\u001b[0m\u001b[0m\n\u001b[1;32m      3\u001b[0m     \u001b[1;32mfor\u001b[0m \u001b[0mi\u001b[0m \u001b[1;32min\u001b[0m \u001b[0mrange\u001b[0m \u001b[1;33m(\u001b[0m\u001b[0mlen\u001b[0m\u001b[1;33m(\u001b[0m\u001b[0mmatrix\u001b[0m\u001b[1;33m)\u001b[0m\u001b[1;33m-\u001b[0m\u001b[1;36m1\u001b[0m\u001b[1;33m)\u001b[0m\u001b[1;33m:\u001b[0m\u001b[1;33m\u001b[0m\u001b[0m\n\u001b[0;32m----> 4\u001b[0;31m         \u001b[0mmax\u001b[0m\u001b[1;33m(\u001b[0m\u001b[0mmatrix\u001b[0m\u001b[1;33m,\u001b[0m\u001b[0mi\u001b[0m\u001b[1;33m)\u001b[0m\u001b[1;33m\u001b[0m\u001b[0m\n\u001b[0m\u001b[1;32m      5\u001b[0m         \u001b[1;32mfor\u001b[0m \u001b[0mp\u001b[0m \u001b[1;32min\u001b[0m \u001b[0mrange\u001b[0m \u001b[1;33m(\u001b[0m\u001b[0mi\u001b[0m\u001b[1;33m+\u001b[0m\u001b[1;36m1\u001b[0m\u001b[1;33m,\u001b[0m\u001b[0mlen\u001b[0m\u001b[1;33m(\u001b[0m\u001b[0mmatrix\u001b[0m\u001b[1;33m)\u001b[0m\u001b[1;33m)\u001b[0m\u001b[1;33m:\u001b[0m\u001b[1;33m\u001b[0m\u001b[0m\n\u001b[1;32m      6\u001b[0m             \u001b[0mt\u001b[0m \u001b[1;33m=\u001b[0m \u001b[0mmatrix\u001b[0m\u001b[1;33m[\u001b[0m\u001b[0mp\u001b[0m\u001b[1;33m]\u001b[0m\u001b[1;33m[\u001b[0m\u001b[0mi\u001b[0m\u001b[1;33m]\u001b[0m\u001b[1;33m/\u001b[0m\u001b[0mmatrix\u001b[0m\u001b[1;33m[\u001b[0m\u001b[0mi\u001b[0m\u001b[1;33m]\u001b[0m\u001b[1;33m[\u001b[0m\u001b[0mi\u001b[0m\u001b[1;33m]\u001b[0m\u001b[1;33m\u001b[0m\u001b[0m\n",
      "\u001b[0;31mValueError\u001b[0m: The truth value of an array with more than one element is ambiguous. Use a.any() or a.all()"
     ]
    }
   ],
   "source": [
    "Mat2 = Gausse(Mat,B)\n",
    "#print((Mat2))"
   ]
  },
  {
   "cell_type": "code",
   "execution_count": 13,
   "metadata": {},
   "outputs": [
    {
     "name": "stdout",
     "output_type": "stream",
     "text": [
      "[[ 5  0  7  0]\n",
      " [-1  6  0  1]\n",
      " [ 2 -6 -4 -5]\n",
      " [-6 -6 15  7]]\n",
      "[-123   60 -108  159]\n",
      "\n",
      "[[ -5   0   7   0]\n",
      " [  4   6   0   1]\n",
      " [  3  12  -7 -23]\n",
      " [ -2  42  37 -21]]\n",
      "[ 109  168 -193  -95]\n"
     ]
    }
   ],
   "source": [
    "Ak = np.array([[5, 0, 7, 0],[-1, 6, 0, 1],[2, -6, -4, -5],[-6, -6, 15, 7]])\n",
    "print (Ak)\n",
    "Bk1 = np.array([-123, 60, -108, 159])\n",
    "Bk= Bk1.transpose()\n",
    "print (Bk)\n",
    "\n",
    "print('')\n",
    "\n",
    "Ae = np.array([[-5, 0, 7, 0],[4, 6, 0, 1],[3, 12, -7, -23],[-2, 42, 37, -21]])\n",
    "print (Ae)\n",
    "Be1 = np.array([109, 168, -193, -95])\n",
    "Be = Be1.transpose()\n",
    "print (Be) "
   ]
  },
  {
   "cell_type": "code",
   "execution_count": 14,
   "metadata": {
    "scrolled": true
   },
   "outputs": [
    {
     "name": "stdout",
     "output_type": "stream",
     "text": [
      "Меняем рядки\n",
      " [[-6 -6 15  7]\n",
      " [-1  6  0  1]\n",
      " [ 2 -6 -4 -5]\n",
      " [ 5  0  7  0]]\n",
      "[[-6 -6 15  7]\n",
      " [ 0  7 -2  0]\n",
      " [ 0 -8  1 -2]\n",
      " [ 0 -5 19  5]]\n",
      "[159  33 -55   9]\n",
      "Меняем рядки\n",
      " [[-6 -6 15  7]\n",
      " [ 0 -8  1 -2]\n",
      " [ 0  7 -2  0]\n",
      " [ 0 -5 19  5]]\n",
      "[[-6 -6 15  7]\n",
      " [ 0 -8  1 -2]\n",
      " [ 0  0 -1 -1]\n",
      " [ 0  0 18  6]]\n",
      "[159 -55 -15  43]\n",
      "Меняем рядки\n",
      " [[-6 -6 15  7]\n",
      " [ 0 -8  1 -2]\n",
      " [ 0  0 18  6]\n",
      " [ 0  0 -1 -1]]\n",
      "[[-6 -6 15  7]\n",
      " [ 0 -8  1 -2]\n",
      " [ 0  0 18  6]\n",
      " [ 0  0  0  0]]\n",
      "[159 -55  43 -12]\n",
      "Проблемы начинаються с 4 -го ряда\n",
      "количество замен рядков 3\n"
     ]
    },
    {
     "data": {
      "text/plain": [
       "(array([[-6, -6, 15,  7],\n",
       "        [ 0, -8,  1, -2],\n",
       "        [ 0,  0, 18,  6],\n",
       "        [ 0,  0,  0,  0]]), array([159, -55,  43, -12]))"
      ]
     },
     "execution_count": 14,
     "metadata": {},
     "output_type": "execute_result"
    }
   ],
   "source": [
    "Gausse(Ak,Bk)"
   ]
  },
  {
   "cell_type": "code",
   "execution_count": 9,
   "metadata": {},
   "outputs": [
    {
     "ename": "NameError",
     "evalue": "name 'Gausse' is not defined",
     "output_type": "error",
     "traceback": [
      "\u001b[0;31m---------------------------------------------------------------------------\u001b[0m",
      "\u001b[0;31mNameError\u001b[0m                                 Traceback (most recent call last)",
      "\u001b[0;32m<ipython-input-9-3025d2e285a7>\u001b[0m in \u001b[0;36m<module>\u001b[0;34m()\u001b[0m\n\u001b[0;32m----> 1\u001b[0;31m \u001b[0mGausse\u001b[0m\u001b[0;34m(\u001b[0m\u001b[0mAe\u001b[0m\u001b[0;34m,\u001b[0m\u001b[0mBe\u001b[0m\u001b[0;34m)\u001b[0m\u001b[0;34m\u001b[0m\u001b[0m\n\u001b[0m",
      "\u001b[0;31mNameError\u001b[0m: name 'Gausse' is not defined"
     ]
    }
   ],
   "source": [
    "Gausse(Ae,Be)"
   ]
  }
 ],
 "metadata": {
  "kernelspec": {
   "display_name": "Python 3",
   "language": "python",
   "name": "python3"
  },
  "language_info": {
   "codemirror_mode": {
    "name": "ipython",
    "version": 3
   },
   "file_extension": ".py",
   "mimetype": "text/x-python",
   "name": "python",
   "nbconvert_exporter": "python",
   "pygments_lexer": "ipython3",
   "version": "3.6.5"
  }
 },
 "nbformat": 4,
 "nbformat_minor": 2
}
